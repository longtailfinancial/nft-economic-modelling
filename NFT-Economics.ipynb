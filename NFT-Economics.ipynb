{
 "cells": [
  {
   "cell_type": "markdown",
   "id": "d24f4d6c-f389-4714-8794-1bfbca5a33b2",
   "metadata": {},
   "source": [
    "Target Raise\n",
    "* Sliding scale from 1-50 Million\n",
    "\n",
    "Supporter\n",
    "* Common\n",
    "* Affluent\n",
    "* Celebrity\n",
    "\n",
    "Artists\n",
    "* Common\n",
    "* Exceptional\n",
    "* Celebrity\n",
    "\n",
    "Art\n",
    "* Number of issues\n",
    "* Exceptionallity\n",
    "* Resale Properties\n",
    "\n",
    "Secondary Sales"
   ]
  },
  {
   "cell_type": "markdown",
   "id": "3a236d13-7566-4e81-93ec-d29a652529ca",
   "metadata": {},
   "source": [
    "An NFT has certain intrinsic properties. An artist has certain intrinsic properties. A supporter has certain intrinsic properties. \n",
    "\n",
    "The properties of an artist will determine the properties of the art that they produce. The properties of a supporter, intersecting with the properties of an art piece will determine a sale."
   ]
  },
  {
   "cell_type": "code",
   "execution_count": null,
   "id": "4853ac40-a85a-4db9-9874-382e072930c6",
   "metadata": {},
   "outputs": [],
   "source": []
  },
  {
   "cell_type": "markdown",
   "id": "bdc9f259-c780-4ce8-af08-55497a683c45",
   "metadata": {},
   "source": [
    "1. Artists\n",
    "2. Marketing Budget\n",
    "3. Intrinsic Momentum"
   ]
  },
  {
   "cell_type": "markdown",
   "id": "7f52f77f-4363-4e0f-a1f0-80b69119b637",
   "metadata": {},
   "source": [
    "1. Open call to artists\n",
    "2. Utility NFTs\n",
    "3. Priority NFTs"
   ]
  },
  {
   "cell_type": "code",
   "execution_count": null,
   "id": "be31781f-fc16-461f-a717-80e845104fa8",
   "metadata": {},
   "outputs": [],
   "source": []
  }
 ],
 "metadata": {
  "kernelspec": {
   "display_name": "Python 3",
   "language": "python",
   "name": "python3"
  },
  "language_info": {
   "codemirror_mode": {
    "name": "ipython",
    "version": 3
   },
   "file_extension": ".py",
   "mimetype": "text/x-python",
   "name": "python",
   "nbconvert_exporter": "python",
   "pygments_lexer": "ipython3",
   "version": "3.8.8"
  }
 },
 "nbformat": 4,
 "nbformat_minor": 5
}
